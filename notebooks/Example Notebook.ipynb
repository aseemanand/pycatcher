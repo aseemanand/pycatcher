{
 "cells": [
  {
   "cell_type": "markdown",
   "id": "25119b75-5fa7-4472-b1e0-5ee4e242f899",
   "metadata": {},
   "source": [
    "### Install and import pycatcher package"
   ]
  },
  {
   "cell_type": "code",
   "execution_count": 1,
   "id": "ca4fc2d5-f1cc-4605-a33f-91a8c9d7b703",
   "metadata": {},
   "outputs": [
    {
     "name": "stdout",
     "output_type": "stream",
     "text": [
      "\u001b[33mWARNING: Skipping /Users/sarika/Documents/GitHub/pycatcher/venv/lib/python3.12/site-packages/numpy-2.0.2.dist-info due to invalid metadata entry 'name'\u001b[0m\u001b[33m\n",
      "\u001b[0mRequirement already satisfied: pycatcher in /Users/sarika/Documents/GitHub/pycatcher/venv/lib/python3.12/site-packages (0.0.69)\n",
      "Requirement already satisfied: flask<4.0.0,>=3.1.0 in /Users/sarika/Documents/GitHub/pycatcher/venv/lib/python3.12/site-packages (from pycatcher) (3.1.1)\n",
      "Requirement already satisfied: mkdocs<2.0.0,>=1.5.0 in /Users/sarika/Documents/GitHub/pycatcher/venv/lib/python3.12/site-packages (from pycatcher) (1.6.1)\n",
      "Requirement already satisfied: mkdocs-material<10.0.0,>=9.1.3 in /Users/sarika/Documents/GitHub/pycatcher/venv/lib/python3.12/site-packages (from pycatcher) (9.6.15)\n",
      "Requirement already satisfied: numpy<2.0.0,>=1.24.0 in /Users/sarika/Documents/GitHub/pycatcher/venv/lib/python3.12/site-packages (from pycatcher) (1.26.4)\n",
      "Requirement already satisfied: pandas==2.2.3 in /Users/sarika/Documents/GitHub/pycatcher/venv/lib/python3.12/site-packages (from pycatcher) (2.2.3)\n",
      "Requirement already satisfied: pyod==2.0.2 in /Users/sarika/Documents/GitHub/pycatcher/venv/lib/python3.12/site-packages (from pycatcher) (2.0.2)\n",
      "Requirement already satisfied: pyspark<4.0.0,>=3.0.0 in /Users/sarika/Documents/GitHub/pycatcher/venv/lib/python3.12/site-packages (from pycatcher) (3.5.6)\n",
      "Requirement already satisfied: scipy<1.16.0,>=1.9.0 in /Users/sarika/Documents/GitHub/pycatcher/venv/lib/python3.12/site-packages (from pycatcher) (1.13.1)\n",
      "Requirement already satisfied: seaborn==0.13.2 in /Users/sarika/Documents/GitHub/pycatcher/venv/lib/python3.12/site-packages (from pycatcher) (0.13.2)\n",
      "Requirement already satisfied: sesd==0.2 in /Users/sarika/Documents/GitHub/pycatcher/venv/lib/python3.12/site-packages (from pycatcher) (0.2)\n",
      "Requirement already satisfied: statsmodels<0.15.0,>=0.14.0 in /Users/sarika/Documents/GitHub/pycatcher/venv/lib/python3.12/site-packages (from pycatcher) (0.14.4)\n",
      "Requirement already satisfied: python-dateutil>=2.8.2 in /Users/sarika/Documents/GitHub/pycatcher/venv/lib/python3.12/site-packages (from pandas==2.2.3->pycatcher) (2.9.0.post0)\n",
      "Requirement already satisfied: pytz>=2020.1 in /Users/sarika/Documents/GitHub/pycatcher/venv/lib/python3.12/site-packages (from pandas==2.2.3->pycatcher) (2025.2)\n",
      "Requirement already satisfied: tzdata>=2022.7 in /Users/sarika/Documents/GitHub/pycatcher/venv/lib/python3.12/site-packages (from pandas==2.2.3->pycatcher) (2025.2)\n",
      "Requirement already satisfied: joblib in /Users/sarika/Documents/GitHub/pycatcher/venv/lib/python3.12/site-packages (from pyod==2.0.2->pycatcher) (1.5.1)\n",
      "Requirement already satisfied: matplotlib in /Users/sarika/Documents/GitHub/pycatcher/venv/lib/python3.12/site-packages (from pyod==2.0.2->pycatcher) (3.9.4)\n",
      "Requirement already satisfied: numba>=0.51 in /Users/sarika/Documents/GitHub/pycatcher/venv/lib/python3.12/site-packages (from pyod==2.0.2->pycatcher) (0.60.0)\n",
      "Requirement already satisfied: scikit-learn>=0.22.0 in /Users/sarika/Documents/GitHub/pycatcher/venv/lib/python3.12/site-packages (from pyod==2.0.2->pycatcher) (1.6.1)\n",
      "Requirement already satisfied: blinker>=1.9.0 in /Users/sarika/Documents/GitHub/pycatcher/venv/lib/python3.12/site-packages (from flask<4.0.0,>=3.1.0->pycatcher) (1.9.0)\n",
      "Requirement already satisfied: click>=8.1.3 in /Users/sarika/Documents/GitHub/pycatcher/venv/lib/python3.12/site-packages (from flask<4.0.0,>=3.1.0->pycatcher) (8.1.8)\n",
      "Requirement already satisfied: itsdangerous>=2.2.0 in /Users/sarika/Documents/GitHub/pycatcher/venv/lib/python3.12/site-packages (from flask<4.0.0,>=3.1.0->pycatcher) (2.2.0)\n",
      "Requirement already satisfied: jinja2>=3.1.2 in /Users/sarika/Documents/GitHub/pycatcher/venv/lib/python3.12/site-packages (from flask<4.0.0,>=3.1.0->pycatcher) (3.1.6)\n",
      "Requirement already satisfied: markupsafe>=2.1.1 in /Users/sarika/Documents/GitHub/pycatcher/venv/lib/python3.12/site-packages (from flask<4.0.0,>=3.1.0->pycatcher) (3.0.2)\n",
      "Requirement already satisfied: werkzeug>=3.1.0 in /Users/sarika/Documents/GitHub/pycatcher/venv/lib/python3.12/site-packages (from flask<4.0.0,>=3.1.0->pycatcher) (3.1.3)\n",
      "Requirement already satisfied: ghp-import>=1.0 in /Users/sarika/Documents/GitHub/pycatcher/venv/lib/python3.12/site-packages (from mkdocs<2.0.0,>=1.5.0->pycatcher) (2.1.0)\n",
      "Requirement already satisfied: markdown>=3.3.6 in /Users/sarika/Documents/GitHub/pycatcher/venv/lib/python3.12/site-packages (from mkdocs<2.0.0,>=1.5.0->pycatcher) (3.8.2)\n",
      "Requirement already satisfied: mergedeep>=1.3.4 in /Users/sarika/Documents/GitHub/pycatcher/venv/lib/python3.12/site-packages (from mkdocs<2.0.0,>=1.5.0->pycatcher) (1.3.4)\n",
      "Requirement already satisfied: mkdocs-get-deps>=0.2.0 in /Users/sarika/Documents/GitHub/pycatcher/venv/lib/python3.12/site-packages (from mkdocs<2.0.0,>=1.5.0->pycatcher) (0.2.0)\n",
      "Requirement already satisfied: packaging>=20.5 in /Users/sarika/Documents/GitHub/pycatcher/venv/lib/python3.12/site-packages (from mkdocs<2.0.0,>=1.5.0->pycatcher) (25.0)\n",
      "Requirement already satisfied: pathspec>=0.11.1 in /Users/sarika/Documents/GitHub/pycatcher/venv/lib/python3.12/site-packages (from mkdocs<2.0.0,>=1.5.0->pycatcher) (0.12.1)\n",
      "Requirement already satisfied: pyyaml-env-tag>=0.1 in /Users/sarika/Documents/GitHub/pycatcher/venv/lib/python3.12/site-packages (from mkdocs<2.0.0,>=1.5.0->pycatcher) (1.1)\n",
      "Requirement already satisfied: pyyaml>=5.1 in /Users/sarika/Documents/GitHub/pycatcher/venv/lib/python3.12/site-packages (from mkdocs<2.0.0,>=1.5.0->pycatcher) (6.0.2)\n",
      "Requirement already satisfied: watchdog>=2.0 in /Users/sarika/Documents/GitHub/pycatcher/venv/lib/python3.12/site-packages (from mkdocs<2.0.0,>=1.5.0->pycatcher) (6.0.0)\n",
      "Requirement already satisfied: babel~=2.10 in /Users/sarika/Documents/GitHub/pycatcher/venv/lib/python3.12/site-packages (from mkdocs-material<10.0.0,>=9.1.3->pycatcher) (2.17.0)\n",
      "Requirement already satisfied: backrefs~=5.7.post1 in /Users/sarika/Documents/GitHub/pycatcher/venv/lib/python3.12/site-packages (from mkdocs-material<10.0.0,>=9.1.3->pycatcher) (5.9)\n",
      "Requirement already satisfied: colorama~=0.4 in /Users/sarika/Documents/GitHub/pycatcher/venv/lib/python3.12/site-packages (from mkdocs-material<10.0.0,>=9.1.3->pycatcher) (0.4.6)\n",
      "Requirement already satisfied: mkdocs-material-extensions~=1.3 in /Users/sarika/Documents/GitHub/pycatcher/venv/lib/python3.12/site-packages (from mkdocs-material<10.0.0,>=9.1.3->pycatcher) (1.3.1)\n",
      "Requirement already satisfied: paginate~=0.5 in /Users/sarika/Documents/GitHub/pycatcher/venv/lib/python3.12/site-packages (from mkdocs-material<10.0.0,>=9.1.3->pycatcher) (0.5.7)\n",
      "Requirement already satisfied: pygments~=2.16 in /Users/sarika/Documents/GitHub/pycatcher/venv/lib/python3.12/site-packages (from mkdocs-material<10.0.0,>=9.1.3->pycatcher) (2.19.2)\n",
      "Requirement already satisfied: pymdown-extensions~=10.2 in /Users/sarika/Documents/GitHub/pycatcher/venv/lib/python3.12/site-packages (from mkdocs-material<10.0.0,>=9.1.3->pycatcher) (10.16)\n",
      "Requirement already satisfied: requests~=2.26 in /Users/sarika/Documents/GitHub/pycatcher/venv/lib/python3.12/site-packages (from mkdocs-material<10.0.0,>=9.1.3->pycatcher) (2.32.4)\n",
      "Requirement already satisfied: py4j==0.10.9.7 in /Users/sarika/Documents/GitHub/pycatcher/venv/lib/python3.12/site-packages (from pyspark<4.0.0,>=3.0.0->pycatcher) (0.10.9.7)\n",
      "Requirement already satisfied: patsy>=0.5.6 in /Users/sarika/Documents/GitHub/pycatcher/venv/lib/python3.12/site-packages (from statsmodels<0.15.0,>=0.14.0->pycatcher) (1.0.1)\n",
      "Requirement already satisfied: contourpy>=1.0.1 in /Users/sarika/Documents/GitHub/pycatcher/venv/lib/python3.12/site-packages (from matplotlib->pyod==2.0.2->pycatcher) (1.3.0)\n",
      "Requirement already satisfied: cycler>=0.10 in /Users/sarika/Documents/GitHub/pycatcher/venv/lib/python3.12/site-packages (from matplotlib->pyod==2.0.2->pycatcher) (0.12.1)\n",
      "Requirement already satisfied: fonttools>=4.22.0 in /Users/sarika/Documents/GitHub/pycatcher/venv/lib/python3.12/site-packages (from matplotlib->pyod==2.0.2->pycatcher) (4.58.4)\n",
      "Requirement already satisfied: kiwisolver>=1.3.1 in /Users/sarika/Documents/GitHub/pycatcher/venv/lib/python3.12/site-packages (from matplotlib->pyod==2.0.2->pycatcher) (1.4.7)\n",
      "Requirement already satisfied: pillow>=8 in /Users/sarika/Documents/GitHub/pycatcher/venv/lib/python3.12/site-packages (from matplotlib->pyod==2.0.2->pycatcher) (11.3.0)\n",
      "Requirement already satisfied: pyparsing>=2.3.1 in /Users/sarika/Documents/GitHub/pycatcher/venv/lib/python3.12/site-packages (from matplotlib->pyod==2.0.2->pycatcher) (3.2.3)\n",
      "Requirement already satisfied: platformdirs>=2.2.0 in /Users/sarika/Documents/GitHub/pycatcher/venv/lib/python3.12/site-packages (from mkdocs-get-deps>=0.2.0->mkdocs<2.0.0,>=1.5.0->pycatcher) (4.3.8)\n",
      "Requirement already satisfied: llvmlite<0.44,>=0.43.0dev0 in /Users/sarika/Documents/GitHub/pycatcher/venv/lib/python3.12/site-packages (from numba>=0.51->pyod==2.0.2->pycatcher) (0.43.0)\n",
      "Requirement already satisfied: six>=1.5 in /Users/sarika/Documents/GitHub/pycatcher/venv/lib/python3.12/site-packages (from python-dateutil>=2.8.2->pandas==2.2.3->pycatcher) (1.17.0)\n",
      "Requirement already satisfied: charset_normalizer<4,>=2 in /Users/sarika/Documents/GitHub/pycatcher/venv/lib/python3.12/site-packages (from requests~=2.26->mkdocs-material<10.0.0,>=9.1.3->pycatcher) (3.4.2)\n",
      "Requirement already satisfied: idna<4,>=2.5 in /Users/sarika/Documents/GitHub/pycatcher/venv/lib/python3.12/site-packages (from requests~=2.26->mkdocs-material<10.0.0,>=9.1.3->pycatcher) (3.10)\n",
      "Requirement already satisfied: urllib3<3,>=1.21.1 in /Users/sarika/Documents/GitHub/pycatcher/venv/lib/python3.12/site-packages (from requests~=2.26->mkdocs-material<10.0.0,>=9.1.3->pycatcher) (2.5.0)\n",
      "Requirement already satisfied: certifi>=2017.4.17 in /Users/sarika/Documents/GitHub/pycatcher/venv/lib/python3.12/site-packages (from requests~=2.26->mkdocs-material<10.0.0,>=9.1.3->pycatcher) (2025.6.15)\n",
      "Requirement already satisfied: threadpoolctl>=3.1.0 in /Users/sarika/Documents/GitHub/pycatcher/venv/lib/python3.12/site-packages (from scikit-learn>=0.22.0->pyod==2.0.2->pycatcher) (3.6.0)\n",
      "\u001b[33mWARNING: Skipping /Users/sarika/Documents/GitHub/pycatcher/venv/lib/python3.12/site-packages/numpy-2.0.2.dist-info due to invalid metadata entry 'name'\u001b[0m\u001b[33m\n",
      "\u001b[0m\u001b[33mWARNING: Skipping /Users/sarika/Documents/GitHub/pycatcher/venv/lib/python3.12/site-packages/numpy-2.0.2.dist-info due to invalid metadata entry 'name'\u001b[0m\u001b[33m\n",
      "\u001b[0m\u001b[33mWARNING: There was an error checking the latest version of pip.\u001b[0m\u001b[33m\n",
      "\u001b[0mNote: you may need to restart the kernel to use updated packages.\n"
     ]
    }
   ],
   "source": [
    "pip install pycatcher --upgrade"
   ]
  },
  {
   "cell_type": "code",
   "execution_count": 2,
   "id": "374be8cd-818a-4278-9b30-37c5ae8f0fc4",
   "metadata": {},
   "outputs": [
    {
     "ename": "ModuleNotFoundError",
     "evalue": "No module named 'sklearn.externals'",
     "output_type": "error",
     "traceback": [
      "\u001b[0;31m---------------------------------------------------------------------------\u001b[0m",
      "\u001b[0;31mModuleNotFoundError\u001b[0m                       Traceback (most recent call last)",
      "Cell \u001b[0;32mIn[2], line 1\u001b[0m\n\u001b[0;32m----> 1\u001b[0m \u001b[38;5;28;01mimport\u001b[39;00m\u001b[38;5;250m \u001b[39m\u001b[38;5;21;01mpycatcher\u001b[39;00m\u001b[38;5;250m \u001b[39m\u001b[38;5;28;01mas\u001b[39;00m\u001b[38;5;250m \u001b[39m\u001b[38;5;21;01mpc\u001b[39;00m\n\u001b[1;32m      2\u001b[0m \u001b[38;5;28;01mimport\u001b[39;00m\u001b[38;5;250m \u001b[39m\u001b[38;5;21;01mpandas\u001b[39;00m\u001b[38;5;250m \u001b[39m\u001b[38;5;28;01mas\u001b[39;00m\u001b[38;5;250m \u001b[39m\u001b[38;5;21;01mpd\u001b[39;00m\n",
      "File \u001b[0;32m~/Documents/GitHub/pycatcher/src/pycatcher/__init__.py:26\u001b[0m\n\u001b[1;32m     23\u001b[0m \u001b[38;5;28;01mfrom\u001b[39;00m\u001b[38;5;250m \u001b[39m\u001b[38;5;21;01mflask\u001b[39;00m\u001b[38;5;250m \u001b[39m\u001b[38;5;28;01mimport\u001b[39;00m Flask\n\u001b[1;32m     25\u001b[0m \u001b[38;5;66;03m# Import PyCatcher API functions\u001b[39;00m\n\u001b[0;32m---> 26\u001b[0m \u001b[38;5;28;01mfrom\u001b[39;00m\u001b[38;5;250m \u001b[39m\u001b[38;5;21;01mpycatcher\u001b[39;00m\u001b[38;5;21;01m.\u001b[39;00m\u001b[38;5;21;01mcatch\u001b[39;00m\u001b[38;5;250m \u001b[39m\u001b[38;5;28;01mimport\u001b[39;00m (\n\u001b[1;32m     27\u001b[0m     find_outliers_iqr,\n\u001b[1;32m     28\u001b[0m     anomaly_mad,\n\u001b[1;32m     29\u001b[0m     anomaly_zscore,\n\u001b[1;32m     30\u001b[0m     sum_of_squares,\n\u001b[1;32m     31\u001b[0m     detect_outliers_today_classic,\n\u001b[1;32m     32\u001b[0m     detect_outliers_latest_classic,\n\u001b[1;32m     33\u001b[0m     detect_outliers_classic,\n\u001b[1;32m     34\u001b[0m     decompose_and_detect,\n\u001b[1;32m     35\u001b[0m     detect_outliers_iqr,\n\u001b[1;32m     36\u001b[0m     detect_outliers_moving_average,\n\u001b[1;32m     37\u001b[0m     calculate_optimal_window_size,\n\u001b[1;32m     38\u001b[0m     calculate_rmse,\n\u001b[1;32m     39\u001b[0m     check_normal_distribution_monte_carlo,\n\u001b[1;32m     40\u001b[0m     generate_outliers_stl,\n\u001b[1;32m     41\u001b[0m     generate_outliers_mstl,\n\u001b[1;32m     42\u001b[0m     generate_outliers_generalized_esd,\n\u001b[1;32m     43\u001b[0m     generate_outliers_seasonal_esd,\n\u001b[1;32m     44\u001b[0m     detect_outliers_stl,\n\u001b[1;32m     45\u001b[0m     detect_outliers_mstl,\n\u001b[1;32m     46\u001b[0m     detect_outliers_today_stl,\n\u001b[1;32m     47\u001b[0m     detect_outliers_latest_stl,\n\u001b[1;32m     48\u001b[0m     detect_outliers_today_mstl,\n\u001b[1;32m     49\u001b[0m     detect_outliers_latest_mstl,\n\u001b[1;32m     50\u001b[0m     detect_outliers_today_esd,\n\u001b[1;32m     51\u001b[0m     detect_outliers_latest_esd,\n\u001b[1;32m     52\u001b[0m     detect_outliers_esd,\n\u001b[1;32m     53\u001b[0m     detect_ts_frequency,\n\u001b[1;32m     54\u001b[0m \n\u001b[1;32m     55\u001b[0m \n\u001b[1;32m     56\u001b[0m )\n\u001b[1;32m     57\u001b[0m \u001b[38;5;28;01mfrom\u001b[39;00m\u001b[38;5;250m \u001b[39m\u001b[38;5;21;01mpycatcher\u001b[39;00m\u001b[38;5;21;01m.\u001b[39;00m\u001b[38;5;21;01mdiagnostics\u001b[39;00m\u001b[38;5;250m \u001b[39m\u001b[38;5;28;01mimport\u001b[39;00m (\n\u001b[1;32m     58\u001b[0m     get_residuals,\n\u001b[1;32m     59\u001b[0m     get_ssacf,\n\u001b[0;32m   (...)\u001b[0m\n\u001b[1;32m     74\u001b[0m \n\u001b[1;32m     75\u001b[0m )\n\u001b[1;32m     77\u001b[0m \u001b[38;5;66;03m# Public API definition\u001b[39;00m\n",
      "File \u001b[0;32m~/Documents/GitHub/pycatcher/src/pycatcher/catch.py:8\u001b[0m\n\u001b[1;32m      6\u001b[0m \u001b[38;5;28;01mimport\u001b[39;00m\u001b[38;5;250m \u001b[39m\u001b[38;5;21;01mpandas\u001b[39;00m\u001b[38;5;250m \u001b[39m\u001b[38;5;28;01mas\u001b[39;00m\u001b[38;5;250m \u001b[39m\u001b[38;5;21;01mpd\u001b[39;00m\n\u001b[1;32m      7\u001b[0m \u001b[38;5;28;01mimport\u001b[39;00m\u001b[38;5;250m \u001b[39m\u001b[38;5;21;01msesd\u001b[39;00m\n\u001b[0;32m----> 8\u001b[0m \u001b[38;5;28;01mfrom\u001b[39;00m\u001b[38;5;250m \u001b[39m\u001b[38;5;21;01mpyod\u001b[39;00m\u001b[38;5;21;01m.\u001b[39;00m\u001b[38;5;21;01mmodels\u001b[39;00m\u001b[38;5;21;01m.\u001b[39;00m\u001b[38;5;21;01mmad\u001b[39;00m\u001b[38;5;250m \u001b[39m\u001b[38;5;28;01mimport\u001b[39;00m MAD\n\u001b[1;32m      9\u001b[0m \u001b[38;5;28;01mfrom\u001b[39;00m\u001b[38;5;250m \u001b[39m\u001b[38;5;21;01msklearn\u001b[39;00m\u001b[38;5;21;01m.\u001b[39;00m\u001b[38;5;21;01mbase\u001b[39;00m\u001b[38;5;250m \u001b[39m\u001b[38;5;28;01mimport\u001b[39;00m BaseEstimator\n\u001b[1;32m     10\u001b[0m \u001b[38;5;28;01mfrom\u001b[39;00m\u001b[38;5;250m \u001b[39m\u001b[38;5;21;01msklearn\u001b[39;00m\u001b[38;5;21;01m.\u001b[39;00m\u001b[38;5;21;01mmodel_selection\u001b[39;00m\u001b[38;5;250m \u001b[39m\u001b[38;5;28;01mimport\u001b[39;00m TimeSeriesSplit\n",
      "File \u001b[0;32m~/Documents/GitHub/pycatcher/venv/lib/python3.12/site-packages/pyod/__init__.py:4\u001b[0m\n\u001b[1;32m      1\u001b[0m \u001b[38;5;66;03m# -*- coding: utf-8 -*-\u001b[39;00m\n\u001b[1;32m      3\u001b[0m \u001b[38;5;28;01mfrom\u001b[39;00m\u001b[38;5;250m \u001b[39m\u001b[38;5;21;01m.\u001b[39;00m\u001b[38;5;250m \u001b[39m\u001b[38;5;28;01mimport\u001b[39;00m models\n\u001b[0;32m----> 4\u001b[0m \u001b[38;5;28;01mfrom\u001b[39;00m\u001b[38;5;250m \u001b[39m\u001b[38;5;21;01m.\u001b[39;00m\u001b[38;5;250m \u001b[39m\u001b[38;5;28;01mimport\u001b[39;00m utils\n\u001b[1;32m      5\u001b[0m \u001b[38;5;28;01mfrom\u001b[39;00m\u001b[38;5;250m \u001b[39m\u001b[38;5;21;01m.\u001b[39;00m\u001b[38;5;21;01mversion\u001b[39;00m\u001b[38;5;250m \u001b[39m\u001b[38;5;28;01mimport\u001b[39;00m __version__\n\u001b[1;32m      7\u001b[0m __all__ \u001b[38;5;241m=\u001b[39m [\u001b[38;5;124m'\u001b[39m\u001b[38;5;124mmodels\u001b[39m\u001b[38;5;124m'\u001b[39m, \u001b[38;5;124m'\u001b[39m\u001b[38;5;124mutils\u001b[39m\u001b[38;5;124m'\u001b[39m, \u001b[38;5;124m'\u001b[39m\u001b[38;5;124m__version__\u001b[39m\u001b[38;5;124m'\u001b[39m]\n",
      "File \u001b[0;32m~/Documents/GitHub/pycatcher/venv/lib/python3.12/site-packages/pyod/utils/__init__.py:2\u001b[0m\n\u001b[1;32m      1\u001b[0m \u001b[38;5;66;03m# -*- coding: utf-8 -*-\u001b[39;00m\n\u001b[0;32m----> 2\u001b[0m \u001b[38;5;28;01mfrom\u001b[39;00m\u001b[38;5;250m \u001b[39m\u001b[38;5;21;01m.\u001b[39;00m\u001b[38;5;21;01mdata\u001b[39;00m\u001b[38;5;250m \u001b[39m\u001b[38;5;28;01mimport\u001b[39;00m evaluate_print\n\u001b[1;32m      3\u001b[0m \u001b[38;5;28;01mfrom\u001b[39;00m\u001b[38;5;250m \u001b[39m\u001b[38;5;21;01m.\u001b[39;00m\u001b[38;5;21;01mdata\u001b[39;00m\u001b[38;5;250m \u001b[39m\u001b[38;5;28;01mimport\u001b[39;00m generate_data\n\u001b[1;32m      4\u001b[0m \u001b[38;5;28;01mfrom\u001b[39;00m\u001b[38;5;250m \u001b[39m\u001b[38;5;21;01m.\u001b[39;00m\u001b[38;5;21;01mstat_models\u001b[39;00m\u001b[38;5;250m \u001b[39m\u001b[38;5;28;01mimport\u001b[39;00m pairwise_distances_no_broadcast\n",
      "File \u001b[0;32m~/Documents/GitHub/pycatcher/venv/lib/python3.12/site-packages/pyod/utils/data.py:14\u001b[0m\n\u001b[1;32m     11\u001b[0m \u001b[38;5;28;01mfrom\u001b[39;00m\u001b[38;5;250m \u001b[39m\u001b[38;5;21;01mwarnings\u001b[39;00m\u001b[38;5;250m \u001b[39m\u001b[38;5;28;01mimport\u001b[39;00m warn\n\u001b[1;32m     13\u001b[0m \u001b[38;5;28;01mimport\u001b[39;00m\u001b[38;5;250m \u001b[39m\u001b[38;5;21;01mnumpy\u001b[39;00m\u001b[38;5;250m \u001b[39m\u001b[38;5;28;01mas\u001b[39;00m\u001b[38;5;250m \u001b[39m\u001b[38;5;21;01mnp\u001b[39;00m\n\u001b[0;32m---> 14\u001b[0m \u001b[38;5;28;01mfrom\u001b[39;00m\u001b[38;5;250m \u001b[39m\u001b[38;5;21;01msklearn\u001b[39;00m\u001b[38;5;21;01m.\u001b[39;00m\u001b[38;5;21;01mdatasets\u001b[39;00m\u001b[38;5;250m \u001b[39m\u001b[38;5;28;01mimport\u001b[39;00m make_blobs\n\u001b[1;32m     15\u001b[0m \u001b[38;5;28;01mfrom\u001b[39;00m\u001b[38;5;250m \u001b[39m\u001b[38;5;21;01msklearn\u001b[39;00m\u001b[38;5;21;01m.\u001b[39;00m\u001b[38;5;21;01mmetrics\u001b[39;00m\u001b[38;5;250m \u001b[39m\u001b[38;5;28;01mimport\u001b[39;00m roc_auc_score\n\u001b[1;32m     16\u001b[0m \u001b[38;5;28;01mfrom\u001b[39;00m\u001b[38;5;250m \u001b[39m\u001b[38;5;21;01msklearn\u001b[39;00m\u001b[38;5;21;01m.\u001b[39;00m\u001b[38;5;21;01mmodel_selection\u001b[39;00m\u001b[38;5;250m \u001b[39m\u001b[38;5;28;01mimport\u001b[39;00m train_test_split\n",
      "File \u001b[0;32m~/Documents/GitHub/pycatcher/venv/lib/python3.12/site-packages/sklearn/__init__.py:73\u001b[0m\n\u001b[1;32m     62\u001b[0m \u001b[38;5;66;03m# `_distributor_init` allows distributors to run custom init code.\u001b[39;00m\n\u001b[1;32m     63\u001b[0m \u001b[38;5;66;03m# For instance, for the Windows wheel, this is used to pre-load the\u001b[39;00m\n\u001b[1;32m     64\u001b[0m \u001b[38;5;66;03m# vcomp shared library runtime for OpenMP embedded in the sklearn/.libs\u001b[39;00m\n\u001b[0;32m   (...)\u001b[0m\n\u001b[1;32m     67\u001b[0m \u001b[38;5;66;03m# later is linked to the OpenMP runtime to make it possible to introspect\u001b[39;00m\n\u001b[1;32m     68\u001b[0m \u001b[38;5;66;03m# it and importing it first would fail if the OpenMP dll cannot be found.\u001b[39;00m\n\u001b[1;32m     69\u001b[0m \u001b[38;5;28;01mfrom\u001b[39;00m\u001b[38;5;250m \u001b[39m\u001b[38;5;21;01m.\u001b[39;00m\u001b[38;5;250m \u001b[39m\u001b[38;5;28;01mimport\u001b[39;00m (  \u001b[38;5;66;03m# noqa: F401 E402\u001b[39;00m\n\u001b[1;32m     70\u001b[0m     __check_build,\n\u001b[1;32m     71\u001b[0m     _distributor_init,\n\u001b[1;32m     72\u001b[0m )\n\u001b[0;32m---> 73\u001b[0m \u001b[38;5;28;01mfrom\u001b[39;00m\u001b[38;5;250m \u001b[39m\u001b[38;5;21;01m.\u001b[39;00m\u001b[38;5;21;01mbase\u001b[39;00m\u001b[38;5;250m \u001b[39m\u001b[38;5;28;01mimport\u001b[39;00m clone  \u001b[38;5;66;03m# noqa: E402\u001b[39;00m\n\u001b[1;32m     74\u001b[0m \u001b[38;5;28;01mfrom\u001b[39;00m\u001b[38;5;250m \u001b[39m\u001b[38;5;21;01m.\u001b[39;00m\u001b[38;5;21;01mutils\u001b[39;00m\u001b[38;5;21;01m.\u001b[39;00m\u001b[38;5;21;01m_show_versions\u001b[39;00m\u001b[38;5;250m \u001b[39m\u001b[38;5;28;01mimport\u001b[39;00m show_versions  \u001b[38;5;66;03m# noqa: E402\u001b[39;00m\n\u001b[1;32m     76\u001b[0m _submodules \u001b[38;5;241m=\u001b[39m [\n\u001b[1;32m     77\u001b[0m     \u001b[38;5;124m\"\u001b[39m\u001b[38;5;124mcalibration\u001b[39m\u001b[38;5;124m\"\u001b[39m,\n\u001b[1;32m     78\u001b[0m     \u001b[38;5;124m\"\u001b[39m\u001b[38;5;124mcluster\u001b[39m\u001b[38;5;124m\"\u001b[39m,\n\u001b[0;32m   (...)\u001b[0m\n\u001b[1;32m    114\u001b[0m     \u001b[38;5;124m\"\u001b[39m\u001b[38;5;124mcompose\u001b[39m\u001b[38;5;124m\"\u001b[39m,\n\u001b[1;32m    115\u001b[0m ]\n",
      "File \u001b[0;32m~/Documents/GitHub/pycatcher/venv/lib/python3.12/site-packages/sklearn/base.py:19\u001b[0m\n\u001b[1;32m     17\u001b[0m \u001b[38;5;28;01mfrom\u001b[39;00m\u001b[38;5;250m \u001b[39m\u001b[38;5;21;01m.\u001b[39;00m\u001b[38;5;21;01m_config\u001b[39;00m\u001b[38;5;250m \u001b[39m\u001b[38;5;28;01mimport\u001b[39;00m config_context, get_config\n\u001b[1;32m     18\u001b[0m \u001b[38;5;28;01mfrom\u001b[39;00m\u001b[38;5;250m \u001b[39m\u001b[38;5;21;01m.\u001b[39;00m\u001b[38;5;21;01mexceptions\u001b[39;00m\u001b[38;5;250m \u001b[39m\u001b[38;5;28;01mimport\u001b[39;00m InconsistentVersionWarning\n\u001b[0;32m---> 19\u001b[0m \u001b[38;5;28;01mfrom\u001b[39;00m\u001b[38;5;250m \u001b[39m\u001b[38;5;21;01m.\u001b[39;00m\u001b[38;5;21;01mutils\u001b[39;00m\u001b[38;5;21;01m.\u001b[39;00m\u001b[38;5;21;01m_estimator_html_repr\u001b[39;00m\u001b[38;5;250m \u001b[39m\u001b[38;5;28;01mimport\u001b[39;00m _HTMLDocumentationLinkMixin, estimator_html_repr\n\u001b[1;32m     20\u001b[0m \u001b[38;5;28;01mfrom\u001b[39;00m\u001b[38;5;250m \u001b[39m\u001b[38;5;21;01m.\u001b[39;00m\u001b[38;5;21;01mutils\u001b[39;00m\u001b[38;5;21;01m.\u001b[39;00m\u001b[38;5;21;01m_metadata_requests\u001b[39;00m\u001b[38;5;250m \u001b[39m\u001b[38;5;28;01mimport\u001b[39;00m _MetadataRequester, _routing_enabled\n\u001b[1;32m     21\u001b[0m \u001b[38;5;28;01mfrom\u001b[39;00m\u001b[38;5;250m \u001b[39m\u001b[38;5;21;01m.\u001b[39;00m\u001b[38;5;21;01mutils\u001b[39;00m\u001b[38;5;21;01m.\u001b[39;00m\u001b[38;5;21;01m_param_validation\u001b[39;00m\u001b[38;5;250m \u001b[39m\u001b[38;5;28;01mimport\u001b[39;00m validate_parameter_constraints\n",
      "File \u001b[0;32m~/Documents/GitHub/pycatcher/venv/lib/python3.12/site-packages/sklearn/utils/__init__.py:15\u001b[0m\n\u001b[1;32m     13\u001b[0m \u001b[38;5;28;01mfrom\u001b[39;00m\u001b[38;5;250m \u001b[39m\u001b[38;5;21;01m.\u001b[39;00m\u001b[38;5;250m \u001b[39m\u001b[38;5;28;01mimport\u001b[39;00m _joblib, metadata_routing\n\u001b[1;32m     14\u001b[0m \u001b[38;5;28;01mfrom\u001b[39;00m\u001b[38;5;250m \u001b[39m\u001b[38;5;21;01m.\u001b[39;00m\u001b[38;5;21;01m_bunch\u001b[39;00m\u001b[38;5;250m \u001b[39m\u001b[38;5;28;01mimport\u001b[39;00m Bunch\n\u001b[0;32m---> 15\u001b[0m \u001b[38;5;28;01mfrom\u001b[39;00m\u001b[38;5;250m \u001b[39m\u001b[38;5;21;01m.\u001b[39;00m\u001b[38;5;21;01m_chunking\u001b[39;00m\u001b[38;5;250m \u001b[39m\u001b[38;5;28;01mimport\u001b[39;00m gen_batches, gen_even_slices\n\u001b[1;32m     16\u001b[0m \u001b[38;5;28;01mfrom\u001b[39;00m\u001b[38;5;250m \u001b[39m\u001b[38;5;21;01m.\u001b[39;00m\u001b[38;5;21;01m_estimator_html_repr\u001b[39;00m\u001b[38;5;250m \u001b[39m\u001b[38;5;28;01mimport\u001b[39;00m estimator_html_repr\n\u001b[1;32m     18\u001b[0m \u001b[38;5;66;03m# Make _safe_indexing importable from here for backward compat as this particular\u001b[39;00m\n\u001b[1;32m     19\u001b[0m \u001b[38;5;66;03m# helper is considered semi-private and typically very useful for third-party\u001b[39;00m\n\u001b[1;32m     20\u001b[0m \u001b[38;5;66;03m# libraries that want to comply with scikit-learn's estimator API. In particular,\u001b[39;00m\n\u001b[1;32m     21\u001b[0m \u001b[38;5;66;03m# _safe_indexing was included in our public API documentation despite the leading\u001b[39;00m\n\u001b[1;32m     22\u001b[0m \u001b[38;5;66;03m# `_` in its name.\u001b[39;00m\n",
      "File \u001b[0;32m~/Documents/GitHub/pycatcher/venv/lib/python3.12/site-packages/sklearn/utils/_chunking.py:11\u001b[0m\n\u001b[1;32m      8\u001b[0m \u001b[38;5;28;01mimport\u001b[39;00m\u001b[38;5;250m \u001b[39m\u001b[38;5;21;01mnumpy\u001b[39;00m\u001b[38;5;250m \u001b[39m\u001b[38;5;28;01mas\u001b[39;00m\u001b[38;5;250m \u001b[39m\u001b[38;5;21;01mnp\u001b[39;00m\n\u001b[1;32m     10\u001b[0m \u001b[38;5;28;01mfrom\u001b[39;00m\u001b[38;5;250m \u001b[39m\u001b[38;5;21;01m.\u001b[39;00m\u001b[38;5;21;01m.\u001b[39;00m\u001b[38;5;21;01m_config\u001b[39;00m\u001b[38;5;250m \u001b[39m\u001b[38;5;28;01mimport\u001b[39;00m get_config\n\u001b[0;32m---> 11\u001b[0m \u001b[38;5;28;01mfrom\u001b[39;00m\u001b[38;5;250m \u001b[39m\u001b[38;5;21;01m.\u001b[39;00m\u001b[38;5;21;01m_param_validation\u001b[39;00m\u001b[38;5;250m \u001b[39m\u001b[38;5;28;01mimport\u001b[39;00m Interval, validate_params\n\u001b[1;32m     14\u001b[0m \u001b[38;5;28;01mdef\u001b[39;00m\u001b[38;5;250m \u001b[39m\u001b[38;5;21mchunk_generator\u001b[39m(gen, chunksize):\n\u001b[1;32m     15\u001b[0m \u001b[38;5;250m    \u001b[39m\u001b[38;5;124;03m\"\"\"Chunk generator, ``gen`` into lists of length ``chunksize``. The last\u001b[39;00m\n\u001b[1;32m     16\u001b[0m \u001b[38;5;124;03m    chunk may have a length less than ``chunksize``.\"\"\"\u001b[39;00m\n",
      "File \u001b[0;32m~/Documents/GitHub/pycatcher/venv/lib/python3.12/site-packages/sklearn/utils/_param_validation.py:17\u001b[0m\n\u001b[1;32m     14\u001b[0m \u001b[38;5;28;01mfrom\u001b[39;00m\u001b[38;5;250m \u001b[39m\u001b[38;5;21;01mscipy\u001b[39;00m\u001b[38;5;21;01m.\u001b[39;00m\u001b[38;5;21;01msparse\u001b[39;00m\u001b[38;5;250m \u001b[39m\u001b[38;5;28;01mimport\u001b[39;00m csr_matrix, issparse\n\u001b[1;32m     16\u001b[0m \u001b[38;5;28;01mfrom\u001b[39;00m\u001b[38;5;250m \u001b[39m\u001b[38;5;21;01m.\u001b[39;00m\u001b[38;5;21;01m.\u001b[39;00m\u001b[38;5;21;01m_config\u001b[39;00m\u001b[38;5;250m \u001b[39m\u001b[38;5;28;01mimport\u001b[39;00m config_context, get_config\n\u001b[0;32m---> 17\u001b[0m \u001b[38;5;28;01mfrom\u001b[39;00m\u001b[38;5;250m \u001b[39m\u001b[38;5;21;01m.\u001b[39;00m\u001b[38;5;21;01mvalidation\u001b[39;00m\u001b[38;5;250m \u001b[39m\u001b[38;5;28;01mimport\u001b[39;00m _is_arraylike_not_scalar\n\u001b[1;32m     20\u001b[0m \u001b[38;5;28;01mclass\u001b[39;00m\u001b[38;5;250m \u001b[39m\u001b[38;5;21;01mInvalidParameterError\u001b[39;00m(\u001b[38;5;167;01mValueError\u001b[39;00m, \u001b[38;5;167;01mTypeError\u001b[39;00m):\n\u001b[1;32m     21\u001b[0m \u001b[38;5;250m    \u001b[39m\u001b[38;5;124;03m\"\"\"Custom exception to be raised when the parameter of a class/method/function\u001b[39;00m\n\u001b[1;32m     22\u001b[0m \u001b[38;5;124;03m    does not have a valid type or value.\u001b[39;00m\n\u001b[1;32m     23\u001b[0m \u001b[38;5;124;03m    \"\"\"\u001b[39;00m\n",
      "File \u001b[0;32m~/Documents/GitHub/pycatcher/venv/lib/python3.12/site-packages/sklearn/utils/validation.py:21\u001b[0m\n\u001b[1;32m     19\u001b[0m \u001b[38;5;28;01mfrom\u001b[39;00m\u001b[38;5;250m \u001b[39m\u001b[38;5;21;01m.\u001b[39;00m\u001b[38;5;21;01m.\u001b[39;00m\u001b[38;5;250m \u001b[39m\u001b[38;5;28;01mimport\u001b[39;00m get_config \u001b[38;5;28;01mas\u001b[39;00m _get_config\n\u001b[1;32m     20\u001b[0m \u001b[38;5;28;01mfrom\u001b[39;00m\u001b[38;5;250m \u001b[39m\u001b[38;5;21;01m.\u001b[39;00m\u001b[38;5;21;01m.\u001b[39;00m\u001b[38;5;21;01mexceptions\u001b[39;00m\u001b[38;5;250m \u001b[39m\u001b[38;5;28;01mimport\u001b[39;00m DataConversionWarning, NotFittedError, PositiveSpectrumWarning\n\u001b[0;32m---> 21\u001b[0m \u001b[38;5;28;01mfrom\u001b[39;00m\u001b[38;5;250m \u001b[39m\u001b[38;5;21;01m.\u001b[39;00m\u001b[38;5;21;01m.\u001b[39;00m\u001b[38;5;21;01mutils\u001b[39;00m\u001b[38;5;21;01m.\u001b[39;00m\u001b[38;5;21;01m_array_api\u001b[39;00m\u001b[38;5;250m \u001b[39m\u001b[38;5;28;01mimport\u001b[39;00m _asarray_with_order, _is_numpy_namespace, get_namespace\n\u001b[1;32m     22\u001b[0m \u001b[38;5;28;01mfrom\u001b[39;00m\u001b[38;5;250m \u001b[39m\u001b[38;5;21;01m.\u001b[39;00m\u001b[38;5;21;01m.\u001b[39;00m\u001b[38;5;21;01mutils\u001b[39;00m\u001b[38;5;21;01m.\u001b[39;00m\u001b[38;5;21;01mdeprecation\u001b[39;00m\u001b[38;5;250m \u001b[39m\u001b[38;5;28;01mimport\u001b[39;00m _deprecate_force_all_finite\n\u001b[1;32m     23\u001b[0m \u001b[38;5;28;01mfrom\u001b[39;00m\u001b[38;5;250m \u001b[39m\u001b[38;5;21;01m.\u001b[39;00m\u001b[38;5;21;01m.\u001b[39;00m\u001b[38;5;21;01mutils\u001b[39;00m\u001b[38;5;21;01m.\u001b[39;00m\u001b[38;5;21;01mfixes\u001b[39;00m\u001b[38;5;250m \u001b[39m\u001b[38;5;28;01mimport\u001b[39;00m ComplexWarning, _preserve_dia_indices_dtype\n",
      "File \u001b[0;32m~/Documents/GitHub/pycatcher/venv/lib/python3.12/site-packages/sklearn/utils/_array_api.py:17\u001b[0m\n\u001b[1;32m     14\u001b[0m \u001b[38;5;28;01mimport\u001b[39;00m\u001b[38;5;250m \u001b[39m\u001b[38;5;21;01mscipy\u001b[39;00m\u001b[38;5;21;01m.\u001b[39;00m\u001b[38;5;21;01mspecial\u001b[39;00m\u001b[38;5;250m \u001b[39m\u001b[38;5;28;01mas\u001b[39;00m\u001b[38;5;250m \u001b[39m\u001b[38;5;21;01mspecial\u001b[39;00m\n\u001b[1;32m     16\u001b[0m \u001b[38;5;28;01mfrom\u001b[39;00m\u001b[38;5;250m \u001b[39m\u001b[38;5;21;01m.\u001b[39;00m\u001b[38;5;21;01m.\u001b[39;00m\u001b[38;5;21;01m_config\u001b[39;00m\u001b[38;5;250m \u001b[39m\u001b[38;5;28;01mimport\u001b[39;00m get_config\n\u001b[0;32m---> 17\u001b[0m \u001b[38;5;28;01mfrom\u001b[39;00m\u001b[38;5;250m \u001b[39m\u001b[38;5;21;01m.\u001b[39;00m\u001b[38;5;21;01mfixes\u001b[39;00m\u001b[38;5;250m \u001b[39m\u001b[38;5;28;01mimport\u001b[39;00m parse_version\n\u001b[1;32m     19\u001b[0m _NUMPY_NAMESPACE_NAMES \u001b[38;5;241m=\u001b[39m {\u001b[38;5;124m\"\u001b[39m\u001b[38;5;124mnumpy\u001b[39m\u001b[38;5;124m\"\u001b[39m, \u001b[38;5;124m\"\u001b[39m\u001b[38;5;124marray_api_compat.numpy\u001b[39m\u001b[38;5;124m\"\u001b[39m}\n\u001b[1;32m     22\u001b[0m \u001b[38;5;28;01mdef\u001b[39;00m\u001b[38;5;250m \u001b[39m\u001b[38;5;21myield_namespaces\u001b[39m(include_numpy_namespaces\u001b[38;5;241m=\u001b[39m\u001b[38;5;28;01mTrue\u001b[39;00m):\n",
      "File \u001b[0;32m~/Documents/GitHub/pycatcher/venv/lib/python3.12/site-packages/sklearn/utils/fixes.py:24\u001b[0m\n\u001b[1;32m     21\u001b[0m \u001b[38;5;28;01mexcept\u001b[39;00m \u001b[38;5;167;01mImportError\u001b[39;00m:\n\u001b[1;32m     22\u001b[0m     pd \u001b[38;5;241m=\u001b[39m \u001b[38;5;28;01mNone\u001b[39;00m\n\u001b[0;32m---> 24\u001b[0m \u001b[38;5;28;01mfrom\u001b[39;00m\u001b[38;5;250m \u001b[39m\u001b[38;5;21;01m.\u001b[39;00m\u001b[38;5;21;01m.\u001b[39;00m\u001b[38;5;21;01mexternals\u001b[39;00m\u001b[38;5;21;01m.\u001b[39;00m\u001b[38;5;21;01m_packaging\u001b[39;00m\u001b[38;5;21;01m.\u001b[39;00m\u001b[38;5;21;01mversion\u001b[39;00m\u001b[38;5;250m \u001b[39m\u001b[38;5;28;01mimport\u001b[39;00m parse \u001b[38;5;28;01mas\u001b[39;00m parse_version\n\u001b[1;32m     25\u001b[0m \u001b[38;5;28;01mfrom\u001b[39;00m\u001b[38;5;250m \u001b[39m\u001b[38;5;21;01m.\u001b[39;00m\u001b[38;5;21;01mparallel\u001b[39;00m\u001b[38;5;250m \u001b[39m\u001b[38;5;28;01mimport\u001b[39;00m _get_threadpool_controller\n\u001b[1;32m     27\u001b[0m _IS_32BIT \u001b[38;5;241m=\u001b[39m \u001b[38;5;241m8\u001b[39m \u001b[38;5;241m*\u001b[39m struct\u001b[38;5;241m.\u001b[39mcalcsize(\u001b[38;5;124m\"\u001b[39m\u001b[38;5;124mP\u001b[39m\u001b[38;5;124m\"\u001b[39m) \u001b[38;5;241m==\u001b[39m \u001b[38;5;241m32\u001b[39m\n",
      "\u001b[0;31mModuleNotFoundError\u001b[0m: No module named 'sklearn.externals'"
     ]
    }
   ],
   "source": [
    "import pycatcher as pc\n",
    "import pandas as pd"
   ]
  },
  {
   "cell_type": "markdown",
   "id": "9ba598e6-65da-4566-9d0d-7f0aedb59fa0",
   "metadata": {},
   "source": [
    "### Package functions to detect outliers\n",
    "\n",
    "- detect_outliers_classic(df): Detect outliers in a time-series dataframe using seasonal trend decomposition. \n",
    "- detect_outliers_today_classic(df) Detect outliers for the current date using Classical Seasonal Decomposition.\n",
    "- detect_outliers_latest_classic(df): Detect latest outliers using Classical Seasonal Decomposition.\n",
    "- detect_outliers_stl(df): Detect outliers using Seasonal-Trend Decomposition using LOESS (STL).\n",
    "- detect_outliers_mstl(df): Detect outliers using Multiple Seasonal-Trend Decomposition using LOESS (MSTL).\n",
    "- detect_outliers_esd(df): Detect outliers using using the Extreme Studentized Deviate (ESD) algorithm. \n",
    "- detect_outliers_today_stl(df) Detect outliers for the current date using Seasonal-Trend Decomposition using LOESS (STL).\n",
    "- detect_outliers_latest_stl(df): Detect latest outliers using Seasonal-Trend Decomposition using LOESS (STL).\n",
    "- detect_outliers_today_mstl(df) Detect outliers for the current date using MSTL.\n",
    "- detect_outliers_latest_mstl(df): Detect latest outliers using MSTL.\n",
    "- detect_outliers_latest_esd(df): Detect latest outliers using ESD.\n",
    "- detect_outliers_today_esd(df) Detect outliers for the current date using ESD.\n",
    "- detect_outliers_iqr(df): Detect outliers in a time-series dataframe when there's less than 2 years of data.\n",
    "- detect_outliers_moving_average(df): Detect outliers using moving average method.\n",
    "\n",
    "##### Note - Use seasonal decomposition algorithms when there is at least 2 years of data, otherwise we can use Interquartile Range (IQR) or Moving Average methods for smaller timeframe."
   ]
  },
  {
   "cell_type": "markdown",
   "id": "7df3fc0e-e2ea-4244-82c6-d582398c0a02",
   "metadata": {},
   "source": [
    "### Diagnostic functions for plotting"
   ]
  },
  {
   "cell_type": "code",
   "execution_count": null,
   "id": "527a6ff4-f37f-47cf-b2e1-ced8735bb205",
   "metadata": {},
   "outputs": [],
   "source": [
    "from pycatcher.diagnostics import build_seasonal_plot_classic as build_seasonal_plot_classic\n",
    "from pycatcher.diagnostics import build_outliers_plot_classic as build_outliers_plot_classic\n",
    "from pycatcher.diagnostics import build_outliers_plot_moving_average as build_outliers_plot_moving_average\n",
    "from pycatcher.diagnostics import build_outliers_plot_stl as build_outliers_plot_stl\n",
    "from pycatcher.diagnostics import build_seasonal_plot_stl as build_seasonal_plot_stl\n",
    "from pycatcher.diagnostics import build_outliers_plot_mstl as build_outliers_plot_mstl\n",
    "from pycatcher.diagnostics import build_outliers_plot_esd as build_outliers_plot_esd\n",
    "from pycatcher.diagnostics import build_seasonal_plot_mstl as build_seasonal_plot_mstl\n",
    "from pycatcher.diagnostics import build_monthwise_plot as build_monthwise_plot\n",
    "from pycatcher.diagnostics import build_iqr_plot as build_iqr_plot\n",
    "from pycatcher.diagnostics import build_decomposition_results as build_decomposition_results\n",
    "from pycatcher.diagnostics import conduct_stationarity_check as conduct_stationarity_check"
   ]
  },
  {
   "cell_type": "markdown",
   "id": "c25260ff-9900-4e6c-9e09-c2561598fc6e",
   "metadata": {},
   "source": [
    "### Example 1 - Finding Outliers Using Classical Seasonal Decomposition Algorithm"
   ]
  },
  {
   "cell_type": "code",
   "execution_count": null,
   "id": "3bf8d294-d016-4e10-85fa-16e140093585",
   "metadata": {},
   "outputs": [],
   "source": [
    "!pip install fsspec"
   ]
  },
  {
   "cell_type": "code",
   "execution_count": null,
   "id": "f069b52e-bbc8-467d-bcaa-6ac92be5ab0c",
   "metadata": {},
   "outputs": [],
   "source": [
    "!pip install --upgrade certifi"
   ]
  },
  {
   "cell_type": "code",
   "execution_count": null,
   "id": "6223faab-f088-40ac-b202-fcb6433a6b89",
   "metadata": {},
   "outputs": [],
   "source": [
    "# Read TSA Air passenger dataset\n",
    "\n",
    "df_tsa=pd.read_csv(\"https://huggingface.co/datasets/bbgatch/tsa-passengers/resolve/main/tsa.csv\",sep=',')\n",
    "df_tsa.head(5)"
   ]
  },
  {
   "cell_type": "code",
   "execution_count": null,
   "id": "efb49480-5727-4537-b365-5824fc745c0a",
   "metadata": {},
   "outputs": [],
   "source": [
    "# Read Air passenger dataset\n",
    "\n",
    "df_air=pd.read_csv(\n",
    "    \"https://raw.githubusercontent.com/kennedykwangari/Time-Series-Analysis-and-Forecasting-with-Python/refs/heads/master/AirPassengers.csv\",sep=',')  \n",
    "df_air.head(5)"
   ]
  },
  {
   "cell_type": "code",
   "execution_count": null,
   "id": "f0189874-9b6c-4517-9fab-eb31dfbc7604",
   "metadata": {},
   "outputs": [],
   "source": [
    "# Read Ice cream interest dataset\n",
    "\n",
    "df_ice = pd.read_csv(\"https://raw.githubusercontent.com/ritvikmath/Time-Series-Analysis/master/ice_cream_interest.csv\")\n",
    "df_ice.head(10)"
   ]
  },
  {
   "cell_type": "code",
   "execution_count": null,
   "id": "c1976911-a165-4abe-ad21-8e193a96f78c",
   "metadata": {},
   "outputs": [],
   "source": [
    "df_tsa.head(5)"
   ]
  },
  {
   "cell_type": "code",
   "execution_count": null,
   "id": "5b8ead86-dcf8-4f52-b52a-0f9e2eb1c670",
   "metadata": {
    "editable": true,
    "slideshow": {
     "slide_type": ""
    },
    "tags": []
   },
   "outputs": [],
   "source": [
    "x = pc.detect_outliers_latest_classic(df_tsa) \n",
    "print(x)"
   ]
  },
  {
   "cell_type": "code",
   "execution_count": null,
   "id": "90791fa6-752e-43fc-a887-49c49d2a90e4",
   "metadata": {
    "editable": true,
    "slideshow": {
     "slide_type": ""
    },
    "tags": []
   },
   "outputs": [],
   "source": [
    "x = pc.detect_outliers_classic(df_tsa) \n",
    "print(x)"
   ]
  },
  {
   "cell_type": "code",
   "execution_count": null,
   "id": "ec8822a0-9257-4b93-8c2e-262223239d19",
   "metadata": {},
   "outputs": [],
   "source": [
    "x = pc.detect_outliers_today_classic(df_tsa) \n",
    "print(x)"
   ]
  },
  {
   "cell_type": "code",
   "execution_count": null,
   "id": "d0e67bc3-b498-44ae-9395-fe79787685e1",
   "metadata": {},
   "outputs": [],
   "source": [
    "x = pc.detect_outliers_latest_classic(df_tsa) \n",
    "print(x)"
   ]
  },
  {
   "cell_type": "code",
   "execution_count": null,
   "id": "17ddb90a-e780-46a9-beed-8ff9a7abc5de",
   "metadata": {},
   "outputs": [],
   "source": [
    "pc.build_outliers_plot_classic(df_tsa)"
   ]
  },
  {
   "cell_type": "code",
   "execution_count": null,
   "id": "b53fb76c-423f-49a2-8156-ab80928e9cbd",
   "metadata": {},
   "outputs": [],
   "source": [
    "pc.detect_outliers_classic(df_air) "
   ]
  },
  {
   "cell_type": "code",
   "execution_count": null,
   "id": "ba210863-aa93-4b32-a3da-92bbea6856e7",
   "metadata": {},
   "outputs": [],
   "source": [
    "pc.build_outliers_plot_classic(df_air)"
   ]
  },
  {
   "cell_type": "code",
   "execution_count": null,
   "id": "c55e34f4-63e4-45ed-9a3d-9e4e56ff50da",
   "metadata": {},
   "outputs": [],
   "source": [
    "#Diagnostic plots\n",
    "pc.build_monthwise_plot(df_tsa)"
   ]
  },
  {
   "cell_type": "code",
   "execution_count": null,
   "id": "2ece94ba-c56c-437b-bcde-a96d42594c68",
   "metadata": {},
   "outputs": [],
   "source": [
    "#Diagnostic plots\n",
    "pc.build_seasonal_plot_classic(df_tsa)"
   ]
  },
  {
   "cell_type": "code",
   "execution_count": null,
   "id": "9bd68203-7593-4b16-bd24-879dbf0c76dc",
   "metadata": {},
   "outputs": [],
   "source": [
    "pc.build_seasonal_plot_classic(df_air)"
   ]
  },
  {
   "cell_type": "code",
   "execution_count": null,
   "id": "cf225d11-5719-4e9a-bb50-248991b49562",
   "metadata": {},
   "outputs": [],
   "source": [
    "x = pc.detect_outliers_classic(df_ice) \n",
    "print(x)"
   ]
  },
  {
   "cell_type": "markdown",
   "id": "e47b41fd-c238-4dbd-8482-86a722f0e043",
   "metadata": {},
   "source": [
    "### Example 2 - Finding Outliers Using Seasonal-Trend Decomposition using LOESS (STL)"
   ]
  },
  {
   "cell_type": "code",
   "execution_count": null,
   "id": "0ea6e306-6dd2-4346-aefb-8f344d2af956",
   "metadata": {},
   "outputs": [],
   "source": [
    "pc.detect_outliers_stl(df_ice)"
   ]
  },
  {
   "cell_type": "code",
   "execution_count": null,
   "id": "65c3023f-91d8-4499-bedf-b3bc378a5bad",
   "metadata": {},
   "outputs": [],
   "source": [
    "build_outliers_plot_stl(df_ice)"
   ]
  },
  {
   "cell_type": "code",
   "execution_count": null,
   "id": "e5beaecd-f6ac-4066-847d-294b6ae2da23",
   "metadata": {},
   "outputs": [],
   "source": [
    "pc.detect_outliers_stl(df_tsa)"
   ]
  },
  {
   "cell_type": "code",
   "execution_count": null,
   "id": "b66c0ef0-f418-4470-8f58-fe872800bb6f",
   "metadata": {},
   "outputs": [],
   "source": [
    "pc.detect_outliers_today_stl(df_tsa) "
   ]
  },
  {
   "cell_type": "code",
   "execution_count": null,
   "id": "d2956632-26ea-4f32-b901-2018f8f9f5c7",
   "metadata": {},
   "outputs": [],
   "source": [
    "# Less than 2 years of data \n",
    "\n",
    "df = {\n",
    "        'Dt': ['2024-01-01', '2024-01-02', '2024-01-03', '2024-01-04', '2024-01-05'],\n",
    "        'Value': [100, 120, 140, 250, 450]\n",
    "}\n",
    "\n",
    "df = pd.DataFrame(df)\n",
    "pc.detect_outliers_stl(df)"
   ]
  },
  {
   "cell_type": "code",
   "execution_count": null,
   "id": "0c010e16-144c-4bf3-bcc5-cc92f2939667",
   "metadata": {},
   "outputs": [],
   "source": [
    "pc.build_outliers_plot_stl(df_tsa)"
   ]
  },
  {
   "cell_type": "code",
   "execution_count": null,
   "id": "3da55501-3978-43d4-86a5-6ef5056c90cb",
   "metadata": {},
   "outputs": [],
   "source": [
    "pc.build_outliers_plot_stl(df_air)"
   ]
  },
  {
   "cell_type": "code",
   "execution_count": null,
   "id": "5f4eb96c-2458-4947-b341-3733d9b0a015",
   "metadata": {},
   "outputs": [],
   "source": [
    "#Diagnostic plots\n",
    "pc.build_seasonal_plot_stl(df_tsa)"
   ]
  },
  {
   "cell_type": "code",
   "execution_count": null,
   "id": "e69ffa96-218e-4068-837d-02681a059959",
   "metadata": {},
   "outputs": [],
   "source": [
    "#Diagnostic plots\n",
    "pc.build_seasonal_plot_stl(df_air)"
   ]
  },
  {
   "cell_type": "markdown",
   "id": "7f9e2823-9520-4d39-b00f-26bcc058be32",
   "metadata": {},
   "source": [
    "### Example 3 - Finding Outliers Using Multiple Seasonal-Trend Decomposition using LOESS (MSTL)"
   ]
  },
  {
   "cell_type": "code",
   "execution_count": null,
   "id": "9c2c5c40-60d4-4bcb-8ab5-8b51b18cd7c0",
   "metadata": {},
   "outputs": [],
   "source": [
    "pc.detect_outliers_mstl(df_ice)"
   ]
  },
  {
   "cell_type": "code",
   "execution_count": null,
   "id": "9e2e7508-5da2-4c5b-b2aa-81b0a819958f",
   "metadata": {},
   "outputs": [],
   "source": [
    "# Less than 2 years of data \n",
    "\n",
    "df = {\n",
    "        'Dt': ['2024-01-01', '2024-01-02', '2024-01-03', '2024-01-04', '2024-01-05'],\n",
    "        'Value': [100, 120, 140, 750, 160]\n",
    "}\n",
    "\n",
    "df = pd.DataFrame(df)\n",
    "pc.detect_outliers_mstl(df)"
   ]
  },
  {
   "cell_type": "code",
   "execution_count": null,
   "id": "13832c81-19c6-43a3-b755-6bfd32655125",
   "metadata": {},
   "outputs": [],
   "source": [
    "#Diagnostic plots\n",
    "build_outliers_plot_mstl(df_ice)"
   ]
  },
  {
   "cell_type": "code",
   "execution_count": null,
   "id": "70a8d0da-e287-4a7d-a349-5075dfbdabb0",
   "metadata": {},
   "outputs": [],
   "source": [
    "pc.build_outliers_plot_mstl(df_tsa)"
   ]
  },
  {
   "cell_type": "code",
   "execution_count": null,
   "id": "6f508005-e282-4ddd-a7d2-3155c63e2f8c",
   "metadata": {},
   "outputs": [],
   "source": [
    "x = pc.detect_outliers_latest_mstl(df_tsa) \n",
    "print(x)"
   ]
  },
  {
   "cell_type": "code",
   "execution_count": null,
   "id": "95e83be5-e1f9-4ac4-8c6a-0449347c0291",
   "metadata": {},
   "outputs": [],
   "source": [
    "pc.detect_outliers_today_mstl(df_tsa) "
   ]
  },
  {
   "cell_type": "code",
   "execution_count": null,
   "id": "8998f62a-2243-46ce-9f1f-e001f29a10e0",
   "metadata": {},
   "outputs": [],
   "source": [
    "#Diagnostic plots\n",
    "build_seasonal_plot_mstl(df_ice)"
   ]
  },
  {
   "cell_type": "code",
   "execution_count": null,
   "id": "49125b79-43a7-439b-a636-6a818c08911f",
   "metadata": {},
   "outputs": [],
   "source": [
    "#Diagnostic plots\n",
    "build_seasonal_plot_mstl(df_air)"
   ]
  },
  {
   "cell_type": "code",
   "execution_count": null,
   "id": "85e90d87-2a5a-4cf3-a155-38ea171e372c",
   "metadata": {},
   "outputs": [],
   "source": [
    "#Diagnostic plots\n",
    "build_outliers_plot_mstl(df_air)"
   ]
  },
  {
   "cell_type": "code",
   "execution_count": null,
   "id": "d3477c2e-730d-4f1e-bcbb-b54af2cb8495",
   "metadata": {},
   "outputs": [],
   "source": [
    "build_seasonal_plot_mstl(df_tsa)"
   ]
  },
  {
   "cell_type": "markdown",
   "id": "e8752cd4-225b-4146-a9ea-18634e308c59",
   "metadata": {},
   "source": [
    "### Example 2 - Finding Outliers Using the Generalized ESD or Seasonal ESD algorithm (Used by Twitter)"
   ]
  },
  {
   "cell_type": "code",
   "execution_count": null,
   "id": "9c29bbea-b2bd-4e7c-87f1-d64100147ed2",
   "metadata": {},
   "outputs": [],
   "source": [
    "pc.detect_outliers_esd(df_tsa)"
   ]
  },
  {
   "cell_type": "code",
   "execution_count": null,
   "id": "4544d0cf-3676-491e-b2c6-ec2b4d735ea9",
   "metadata": {},
   "outputs": [],
   "source": [
    "pc.build_outliers_plot_esd(df_tsa)"
   ]
  },
  {
   "cell_type": "markdown",
   "id": "823e2e0b-2e2a-4adf-b37f-382ac155389b",
   "metadata": {},
   "source": [
    "### Example 5 - Finding Outliers Using IQR"
   ]
  },
  {
   "cell_type": "code",
   "execution_count": null,
   "id": "6427fa56-800a-49b7-95a8-713a397e3592",
   "metadata": {},
   "outputs": [],
   "source": [
    "import pandas as pd\n",
    "\n",
    "df = {\n",
    "        'Dt': ['2024-01-01', '2024-01-02', '2024-01-03', '2024-01-04', '2024-01-05'],\n",
    "        'Value': [100, 120, 140, 450, 160]\n",
    "}\n",
    "\n",
    "df = pd.DataFrame(df)\n",
    "pc.detect_outliers_classic(df)"
   ]
  },
  {
   "cell_type": "code",
   "execution_count": null,
   "id": "ac9c9f45-55f2-4d70-8473-503d78b28e16",
   "metadata": {},
   "outputs": [],
   "source": [
    "build_iqr_plot(df)"
   ]
  },
  {
   "cell_type": "markdown",
   "id": "62089a4a-93a1-4d08-bb53-7949443a950c",
   "metadata": {},
   "source": [
    "### Example 6 - Finding Outliers Using Moving Average"
   ]
  },
  {
   "cell_type": "code",
   "execution_count": null,
   "id": "2cdb91db-757b-4a05-b677-861d5563c50c",
   "metadata": {},
   "outputs": [],
   "source": [
    "import pandas as pd\n",
    "import numpy as np\n",
    "\n",
    "df = pd.DataFrame({'random numbers': np.random.randn(200)})\n",
    "df.head(20)"
   ]
  },
  {
   "cell_type": "code",
   "execution_count": null,
   "id": "b9e514f7-07fe-44c3-9db3-274234a953d3",
   "metadata": {},
   "outputs": [],
   "source": [
    "pc.detect_outliers_moving_average(df_tsa)"
   ]
  },
  {
   "cell_type": "code",
   "execution_count": null,
   "id": "9af7ee2f-d670-4fe6-bfa0-38479750848c",
   "metadata": {},
   "outputs": [],
   "source": [
    "pc.build_outliers_plot_moving_average(df_tsa)"
   ]
  },
  {
   "cell_type": "markdown",
   "id": "55a05f80-3675-46c5-b6f5-9653d338065e",
   "metadata": {},
   "source": [
    "### Example 7 - Miscellaneous diagnostic function - Stationarity Check"
   ]
  },
  {
   "cell_type": "code",
   "execution_count": null,
   "id": "f4ef24f3-1b4c-4b04-83f6-026cf6c549e3",
   "metadata": {},
   "outputs": [],
   "source": [
    "conduct_stationarity_check(df_ice)"
   ]
  }
 ],
 "metadata": {
  "kernelspec": {
   "display_name": "Python 3 (ipykernel)",
   "language": "python",
   "name": "python3"
  },
  "language_info": {
   "codemirror_mode": {
    "name": "ipython",
    "version": 3
   },
   "file_extension": ".py",
   "mimetype": "text/x-python",
   "name": "python",
   "nbconvert_exporter": "python",
   "pygments_lexer": "ipython3",
   "version": "3.12.0"
  }
 },
 "nbformat": 4,
 "nbformat_minor": 5
}
